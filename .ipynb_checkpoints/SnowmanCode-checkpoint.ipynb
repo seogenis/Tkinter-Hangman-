{
 "cells": [
  {
   "cell_type": "markdown",
   "metadata": {},
   "source": [
    "### <font color = green> Really nice job with this final project!  I'm amazed that you were able to pull together such a big Tkinter project in such a short period of time.  I counted the images as file reading (not that you needed points in that standard).  This is also some of your best function work yet.  I know it says no global variables in that standard, but this is one place where global variables are necessary since you can't pass widgets to a function and get them to do things like the .config().  Well done!"
   ]
  },
  {
   "cell_type": "code",
   "execution_count": 1,
   "metadata": {},
   "outputs": [],
   "source": [
    "def display(snowman_file):\n",
    "    global my_label\n",
    "    \n",
    "    my_img = Image.open(snowman_file)\n",
    "    my_img = my_img.resize((250,250), Image.ANTIALIAS) ## The (250, 250) is (height, width)\n",
    "    my_img = ImageTk.PhotoImage(my_img) #Image with PhotoImage to incorporate into label\n",
    "    my_label.config(image=my_img)\n",
    "    my_label.photo_ref = my_img "
   ]
  },
  {
   "cell_type": "code",
   "execution_count": 2,
   "metadata": {},
   "outputs": [],
   "source": [
    "#Reads basic words file, chooses word to use.\n",
    "def getWord():\n",
    "    import random\n",
    "    f = open('BasicEnglishWords.txt','r')\n",
    "    text = f.readlines() \n",
    "    words = []\n",
    "    chosen_ones = []\n",
    "\n",
    "    for i in range(2,len(text),3):\n",
    "        words.append(list(text[i].strip().split(\" , \")))\n",
    "\n",
    "    letter = input(\"Which letter would you want your word to start with? \").lower()\n",
    "\n",
    "    for i in range(0,len(words)):\n",
    "        if words[i][0][0] == letter:\n",
    "            chosen_ones = words[i]\n",
    "            word = random.choice(chosen_ones).upper()\n",
    "\n",
    "    return word, chosen_ones"
   ]
  },
  {
   "cell_type": "code",
   "execution_count": 3,
   "metadata": {},
   "outputs": [],
   "source": [
    "#Variables\n",
    "def getVariables():\n",
    "    snowmans = [\"C:/Users/wubo1/Desktop/Lville/IIIrd Form Virtual Winter/Python/Snowman6.png\",\"C:/Users/wubo1/Desktop/Lville/IIIrd Form Virtual Winter/Python/Snowman5.png\",\"C:/Users/wubo1/Desktop/Lville/IIIrd Form Virtual Winter/Python/Snowman4.png\",\"C:/Users/wubo1/Desktop/Lville/IIIrd Form Virtual Winter/Python/Snowman3.png\",\"C:/Users/wubo1/Desktop/Lville/IIIrd Form Virtual Winter/Python/Snowman2.png\",\"C:/Users/wubo1/Desktop/Lville/IIIrd Form Virtual Winter/Python/Snowman1.png\",\"C:/Users/wubo1/Desktop/Lville/IIIrd Form Virtual Winter/Python/blank.jpg\"]\n",
    "    answer, chosen_ones = getWord()\n",
    "    #print(answer)\n",
    "    chances = 6\n",
    "    guess = '_'.join([\"\" for i in range(len(answer))]) + \"_\"\n",
    "    #print(guess)\n",
    "    \n",
    "    hax = input(\"would you like to turn on hax mode? (yes/no)\").lower()\n",
    "    hax_mode = False\n",
    "    if hax == \"yes\":\n",
    "        hax_mode = True\n",
    "    \n",
    "    return snowmans, answer, chances, guess, hax_mode, chosen_ones"
   ]
  },
  {
   "cell_type": "code",
   "execution_count": 4,
   "metadata": {},
   "outputs": [],
   "source": [
    "def myClick(letter):\n",
    "    global answer, guess, chances, snowmans, hax_mode, chosen_ones, guessLabel\n",
    "    \n",
    "    n = 0\n",
    "    \n",
    "    for i in range(0,len(answer)):\n",
    "        if answer[i] == letter:\n",
    "            guess = guess[:i] + letter + guess[i+1:]\n",
    "            print(guess)\n",
    "        else:\n",
    "            n+=1\n",
    "\n",
    "    if n == len(answer):\n",
    "        chances -= 1\n",
    "        \n",
    "    #chances left\n",
    "    chanceLabel = Label(root,text=f\"You have {chances} chances left\")\n",
    "    chanceLabel.config(font=(\"Courier\",10))\n",
    "    chanceLabel.grid(row=\"0\",column=\"0\",columnspan=\"9\")\n",
    "        \n",
    "    #win/lose\n",
    "    if answer == guess:\n",
    "        victoryLabel=Label(root,text=\"Congrats on winning!\")\n",
    "        victoryLabel.config(font=(\"Courier\",20))\n",
    "        victoryLabel.grid(row=\"3\",column=\"0\",columnspan=\"9\")\n",
    "    elif chances <= 0:\n",
    "        endLabel=Label(root,text=\"Better Luck Next Time!\")\n",
    "        endLabel.config(font=(\"Courier\",20))\n",
    "        endLabel.grid(row=\"3\",column=\"0\",columnspan=\"9\")\n",
    "        \n",
    "    #snowman images\n",
    "    display(snowmans[chances])\n",
    "    \n",
    "    #guess\n",
    "    guessLabel = Label(root, text=guess)\n",
    "    guessLabel.config(font=(\"Courier\", 30))\n",
    "    guessLabel.grid(row=\"2\",column=\"0\",columnspan=\"9\")\n",
    "    \n",
    "    \n",
    "    #hacks\n",
    "    if hax_mode:\n",
    "        remainings = []\n",
    "        guess = list(guess)\n",
    "        for i in range(len(guess)):\n",
    "            if guess[i] != \"_\":\n",
    "                remainings.append([guess[i],i])\n",
    "            \n",
    "\n",
    "        possibility_list = []\n",
    "        \n",
    "        for word in chosen_ones:\n",
    "            if len(word) == len(guess):\n",
    "                remains = []\n",
    "                word = word.upper()\n",
    "\n",
    "                for i in range(len(word)):\n",
    "                    remains.append([word[i],i])\n",
    "                \n",
    "                match = True\n",
    "                \n",
    "                for i in remainings:\n",
    "                    if i not in remains:\n",
    "                        match = False\n",
    "                        \n",
    "                if match:\n",
    "                    possibility_list.append(word)\n",
    "                    #print(possibility_list)\n",
    "        \n",
    "        possibilities = \" \"\n",
    "        if len(possibility_list) >= 3:\n",
    "            for i in range(5):\n",
    "                possibilities = possibilities + possibility_list[i] + \",\"\n",
    "        else:\n",
    "            for i in possibility_list:\n",
    "                possibilities = possibilities + i + \",\"\n",
    "\n",
    "        haxLabel.config(text=f\"Possible words are \" + possibilities)\n",
    "\n",
    "        guess = ''.join(guess)"
   ]
  },
  {
   "cell_type": "code",
   "execution_count": 18,
   "metadata": {},
   "outputs": [
    {
     "name": "stdout",
     "output_type": "stream",
     "text": [
      "Which letter would you want your word to start with? a\n",
      "would you like to turn on hax mode? (yes/no)n\n",
      "A___\n",
      "A__E\n",
      "A_LE\n",
      "ABLE\n"
     ]
    }
   ],
   "source": [
    "#main code + gui\n",
    "from tkinter import *\n",
    "from PIL import ImageTk, Image\n",
    "\n",
    "snowmans, answer, chances, guess, hax_mode, chosen_ones = getVariables()\n",
    "\n",
    "root = Tk()\n",
    "\n",
    "my_img = Image.open(\"C:/Users/wubo1/Desktop/Lville/IIIrd Form Virtual Winter/Python/blank.jpg\")\n",
    "my_img = my_img.resize((250,250), Image.ANTIALIAS) ## The (250, 250) is (height, width)\n",
    "my_img = ImageTk.PhotoImage(my_img) #Image with PhotoImage to incorporate into label\n",
    "my_label = Label(image=my_img)         \n",
    "my_label.grid(column=0,row=1,columnspan=9)\n",
    "\n",
    "haxLabel = Label(root, text= \"\")\n",
    "haxLabel.grid(row=\"4\",column=\"0\",columnspan=9)\n",
    "\n",
    "root.title('Snowman Game')\n",
    "root.iconbitmap('C:/Users/wubo1/Desktop/Lville/IIIrd Form Virtual Winter/Python/SnowmanIcon.ico')\n",
    "\n",
    "ButtonA = Button(root, text = \"A\", command=lambda: myClick(\"A\"), fg=\"blue\",bg=\"white\",borderwidth = 5)\n",
    "ButtonB = Button(root, text = \"B\", command=lambda: myClick(\"B\"), fg=\"blue\",bg=\"white\",borderwidth = 5)\n",
    "ButtonC = Button(root, text = \"C\", command=lambda: myClick(\"C\"), fg=\"blue\",bg=\"white\",borderwidth = 5)\n",
    "ButtonD = Button(root, text = \"D\", command=lambda: myClick(\"D\"), fg=\"blue\",bg=\"white\",borderwidth = 5)\n",
    "ButtonE = Button(root, text = \"E\", command=lambda: myClick(\"E\"), fg=\"blue\",bg=\"white\",borderwidth = 5)\n",
    "ButtonF = Button(root, text = \"F\", command=lambda: myClick(\"F\"), fg=\"blue\",bg=\"white\",borderwidth = 5)\n",
    "ButtonG = Button(root, text = \"G\", command=lambda: myClick(\"G\"), fg=\"blue\",bg=\"white\",borderwidth = 5)\n",
    "ButtonH = Button(root, text = \"H\", command=lambda: myClick(\"H\"), fg=\"blue\",bg=\"white\",borderwidth = 5)\n",
    "ButtonI = Button(root, text = \"I\", command=lambda: myClick(\"I\"), fg=\"blue\",bg=\"white\",borderwidth = 5)\n",
    "ButtonJ = Button(root, text = \"J\", command=lambda: myClick(\"J\"), fg=\"blue\",bg=\"white\",borderwidth = 5)\n",
    "ButtonK = Button(root, text = \"K\", command=lambda: myClick(\"K\"), fg=\"blue\",bg=\"white\",borderwidth = 5)\n",
    "ButtonL = Button(root, text = \"L\", command=lambda: myClick(\"L\"), fg=\"blue\",bg=\"white\",borderwidth = 5)\n",
    "ButtonM = Button(root, text = \"M\", command=lambda: myClick(\"M\"), fg=\"blue\",bg=\"white\",borderwidth = 5)\n",
    "ButtonN = Button(root, text = \"N\", command=lambda: myClick(\"N\"), fg=\"blue\",bg=\"white\",borderwidth = 5)\n",
    "ButtonO = Button(root, text = \"O\", command=lambda: myClick(\"O\"), fg=\"blue\",bg=\"white\",borderwidth = 5)\n",
    "ButtonP = Button(root, text = \"P\", command=lambda: myClick(\"P\"), fg=\"blue\",bg=\"white\",borderwidth = 5)\n",
    "ButtonQ = Button(root, text = \"Q\", command=lambda: myClick(\"Q\"), fg=\"blue\",bg=\"white\",borderwidth = 5)\n",
    "ButtonR = Button(root, text = \"R\", command=lambda: myClick(\"R\"), fg=\"blue\",bg=\"white\",borderwidth = 5)\n",
    "ButtonS = Button(root, text = \"S\", command=lambda: myClick(\"S\"), fg=\"blue\",bg=\"white\",borderwidth = 5)\n",
    "ButtonT = Button(root, text = \"T\", command=lambda: myClick(\"T\"), fg=\"blue\",bg=\"white\",borderwidth = 5)\n",
    "ButtonU = Button(root, text = \"U\", command=lambda: myClick(\"U\"), fg=\"blue\",bg=\"white\",borderwidth = 5)\n",
    "ButtonV = Button(root, text = \"V\", command=lambda: myClick(\"V\"), fg=\"blue\",bg=\"white\",borderwidth = 5)\n",
    "ButtonW = Button(root, text = \"W\", command=lambda: myClick(\"W\"), fg=\"blue\",bg=\"white\",borderwidth = 5)\n",
    "ButtonX = Button(root, text = \"X\", command=lambda: myClick(\"X\"), fg=\"blue\",bg=\"white\",borderwidth = 5)\n",
    "ButtonY = Button(root, text = \"Y\", command=lambda: myClick(\"Y\"), fg=\"blue\",bg=\"white\",borderwidth = 5)\n",
    "ButtonZ = Button(root, text = \"Z\", command=lambda: myClick(\"Z\"), fg=\"blue\",bg=\"white\",borderwidth = 5)\n",
    "ButtonA.grid(row = \"5\", column = \"0\")\n",
    "ButtonB.grid(row = \"5\", column = \"1\")\n",
    "ButtonC.grid(row = \"5\", column = \"2\")\n",
    "ButtonD.grid(row = \"5\", column = \"3\")\n",
    "ButtonE.grid(row = \"5\", column = \"4\")\n",
    "ButtonF.grid(row = \"5\", column = \"5\")\n",
    "ButtonG.grid(row = \"5\", column = \"6\")\n",
    "ButtonH.grid(row = \"5\", column = \"7\")\n",
    "ButtonI.grid(row = \"5\", column = \"8\")\n",
    "ButtonJ.grid(row = \"6\", column = \"0\")\n",
    "ButtonK.grid(row = \"6\", column = \"1\")\n",
    "ButtonL.grid(row = \"6\", column = \"2\")\n",
    "ButtonM.grid(row = \"6\", column = \"3\")\n",
    "ButtonN.grid(row = \"6\", column = \"4\")\n",
    "ButtonO.grid(row = \"6\", column = \"5\")\n",
    "ButtonP.grid(row = \"6\", column = \"6\")\n",
    "ButtonQ.grid(row = \"6\", column = \"7\")\n",
    "ButtonR.grid(row = \"6\", column = \"8\")\n",
    "ButtonS.grid(row = \"7\", column = \"0\")\n",
    "ButtonT.grid(row = \"7\", column = \"1\")\n",
    "ButtonU.grid(row = \"7\", column = \"2\")\n",
    "ButtonV.grid(row = \"7\", column = \"3\")\n",
    "ButtonW.grid(row = \"7\", column = \"4\")\n",
    "ButtonX.grid(row = \"7\", column = \"5\")\n",
    "ButtonY.grid(row = \"7\", column = \"6\")\n",
    "ButtonZ.grid(row = \"7\", column = \"7\")\n",
    "\n",
    "\n",
    "button_quit = Button(root, text=\"Exit Program\", command=root.destroy)\n",
    "button_quit.grid(row = 8, column = 0, columnspan = 9, padx = 100)\n",
    "\n",
    "\n",
    "root.mainloop()"
   ]
  },
  {
   "cell_type": "code",
   "execution_count": 17,
   "metadata": {},
   "outputs": [
    {
     "name": "stdout",
     "output_type": "stream",
     "text": [
      "ButtonA = Button(root, text = \"A\", command=lambda: myClick(\"A\"), fg=\"blue\",bg=\"white\",borderwidth = 5)\n",
      "ButtonB = Button(root, text = \"B\", command=lambda: myClick(\"B\"), fg=\"blue\",bg=\"white\",borderwidth = 5)\n",
      "ButtonC = Button(root, text = \"C\", command=lambda: myClick(\"C\"), fg=\"blue\",bg=\"white\",borderwidth = 5)\n",
      "ButtonD = Button(root, text = \"D\", command=lambda: myClick(\"D\"), fg=\"blue\",bg=\"white\",borderwidth = 5)\n",
      "ButtonE = Button(root, text = \"E\", command=lambda: myClick(\"E\"), fg=\"blue\",bg=\"white\",borderwidth = 5)\n",
      "ButtonF = Button(root, text = \"F\", command=lambda: myClick(\"F\"), fg=\"blue\",bg=\"white\",borderwidth = 5)\n",
      "ButtonG = Button(root, text = \"G\", command=lambda: myClick(\"G\"), fg=\"blue\",bg=\"white\",borderwidth = 5)\n",
      "ButtonH = Button(root, text = \"H\", command=lambda: myClick(\"H\"), fg=\"blue\",bg=\"white\",borderwidth = 5)\n",
      "ButtonI = Button(root, text = \"I\", command=lambda: myClick(\"I\"), fg=\"blue\",bg=\"white\",borderwidth = 5)\n",
      "ButtonJ = Button(root, text = \"J\", command=lambda: myClick(\"J\"), fg=\"blue\",bg=\"white\",borderwidth = 5)\n",
      "ButtonK = Button(root, text = \"K\", command=lambda: myClick(\"K\"), fg=\"blue\",bg=\"white\",borderwidth = 5)\n",
      "ButtonL = Button(root, text = \"L\", command=lambda: myClick(\"L\"), fg=\"blue\",bg=\"white\",borderwidth = 5)\n",
      "ButtonM = Button(root, text = \"M\", command=lambda: myClick(\"M\"), fg=\"blue\",bg=\"white\",borderwidth = 5)\n",
      "ButtonN = Button(root, text = \"N\", command=lambda: myClick(\"N\"), fg=\"blue\",bg=\"white\",borderwidth = 5)\n",
      "ButtonO = Button(root, text = \"O\", command=lambda: myClick(\"O\"), fg=\"blue\",bg=\"white\",borderwidth = 5)\n",
      "ButtonP = Button(root, text = \"P\", command=lambda: myClick(\"P\"), fg=\"blue\",bg=\"white\",borderwidth = 5)\n",
      "ButtonQ = Button(root, text = \"Q\", command=lambda: myClick(\"Q\"), fg=\"blue\",bg=\"white\",borderwidth = 5)\n",
      "ButtonR = Button(root, text = \"R\", command=lambda: myClick(\"R\"), fg=\"blue\",bg=\"white\",borderwidth = 5)\n",
      "ButtonS = Button(root, text = \"S\", command=lambda: myClick(\"S\"), fg=\"blue\",bg=\"white\",borderwidth = 5)\n",
      "ButtonT = Button(root, text = \"T\", command=lambda: myClick(\"T\"), fg=\"blue\",bg=\"white\",borderwidth = 5)\n",
      "ButtonU = Button(root, text = \"U\", command=lambda: myClick(\"U\"), fg=\"blue\",bg=\"white\",borderwidth = 5)\n",
      "ButtonV = Button(root, text = \"V\", command=lambda: myClick(\"V\"), fg=\"blue\",bg=\"white\",borderwidth = 5)\n",
      "ButtonW = Button(root, text = \"W\", command=lambda: myClick(\"W\"), fg=\"blue\",bg=\"white\",borderwidth = 5)\n",
      "ButtonX = Button(root, text = \"X\", command=lambda: myClick(\"X\"), fg=\"blue\",bg=\"white\",borderwidth = 5)\n",
      "ButtonY = Button(root, text = \"Y\", command=lambda: myClick(\"Y\"), fg=\"blue\",bg=\"white\",borderwidth = 5)\n",
      "ButtonZ = Button(root, text = \"Z\", command=lambda: myClick(\"Z\"), fg=\"blue\",bg=\"white\",borderwidth = 5)\n",
      "ButtonA.grid(row = \"5\", column = \"0\")\n",
      "ButtonB.grid(row = \"5\", column = \"1\")\n",
      "ButtonC.grid(row = \"5\", column = \"2\")\n",
      "ButtonD.grid(row = \"5\", column = \"3\")\n",
      "ButtonE.grid(row = \"5\", column = \"4\")\n",
      "ButtonF.grid(row = \"5\", column = \"5\")\n",
      "ButtonG.grid(row = \"5\", column = \"6\")\n",
      "ButtonH.grid(row = \"5\", column = \"7\")\n",
      "ButtonI.grid(row = \"5\", column = \"8\")\n",
      "ButtonJ.grid(row = \"6\", column = \"0\")\n",
      "ButtonK.grid(row = \"6\", column = \"1\")\n",
      "ButtonL.grid(row = \"6\", column = \"2\")\n",
      "ButtonM.grid(row = \"6\", column = \"3\")\n",
      "ButtonN.grid(row = \"6\", column = \"4\")\n",
      "ButtonO.grid(row = \"6\", column = \"5\")\n",
      "ButtonP.grid(row = \"6\", column = \"6\")\n",
      "ButtonQ.grid(row = \"6\", column = \"7\")\n",
      "ButtonR.grid(row = \"6\", column = \"8\")\n",
      "ButtonS.grid(row = \"7\", column = \"0\")\n",
      "ButtonT.grid(row = \"7\", column = \"1\")\n",
      "ButtonU.grid(row = \"7\", column = \"2\")\n",
      "ButtonV.grid(row = \"7\", column = \"3\")\n",
      "ButtonW.grid(row = \"7\", column = \"4\")\n",
      "ButtonX.grid(row = \"7\", column = \"5\")\n",
      "ButtonY.grid(row = \"7\", column = \"6\")\n",
      "ButtonZ.grid(row = \"7\", column = \"7\")\n"
     ]
    }
   ],
   "source": [
    "#Ashes to ashes, dust to dust\n",
    "#Program to program, code to code\n",
    "import string\n",
    "alphabet = [i for i in string.ascii_uppercase]\n",
    "simplify_list = []\n",
    "\n",
    "for i in range(26):\n",
    "    temporary_list = [alphabet[i], i]\n",
    "    simplify_list.append(temporary_list)\n",
    "\n",
    "for i in simplify_list:\n",
    "    print(f'Button{i[0]} = Button(root, text = \"{i[0]}\", command=lambda: myClick(\"{i[0]}\"), fg=\"blue\",bg=\"white\",borderwidth = 5)')\n",
    "\n",
    "for i in simplify_list:\n",
    "    #a is row, b is column \n",
    "    b = i[1] \n",
    "    if b < 9: \n",
    "        a = 5 \n",
    "    elif b < 18:\n",
    "        a = 6\n",
    "        b -= 9\n",
    "    else:\n",
    "        a = 7\n",
    "        b -= 18    \n",
    "    print(f'Button{i[0]}.grid(row = \"{str(a)}\", column = \"{str(b)}\")')"
   ]
  },
  {
   "cell_type": "markdown",
   "metadata": {},
   "source": [
    "# Where the code is seperated from junk and brainstorm"
   ]
  },
  {
   "cell_type": "markdown",
   "metadata": {},
   "source": [
    "# Snowman Project Brainstorm\n",
    "\n",
    "- A game + an algorithim that plays the game\n",
    "- List of common English words in a textfile\n",
    "- Algorithm iterate through vowels first, then match\n",
    "- Perhaps check the average vowels per word and average letters per word? To know how many vowels to guess\n",
    "- Tkinter GUI: https://www.youtube.com/watch?v=_l-oQ0WQcjs\n",
    "- Basic English nouns: http://ogden.basic-english.org/wordalph.html\n",
    "- Random words: https://pypi.org/project/Random-Word/\n",
    "- Tkinter tutorial: https://www.youtube.com/watch?v=YXPyB4XeYLA&t=17157s\n",
    "- Gotta download in terminal of Jupyter first, then import.\n",
    "\n",
    "## The Game \n",
    "- Easy mode and hard mode with basic English words and Random-word library\n",
    "- Random library\n",
    "- File of words, read into multidimensional list,\n",
    "- Let user choose which letter they want to start with?\n",
    "- Turn everything into upper case. Have dictionary with alphabet. Check first letter of every word.\n",
    "- If you put lists in a dictionary, does that count as a multidimentional list or dictionary?\n",
    "- user inputs which letter start with, or program chooses word\n",
    "- displays _________ same number as length of word\n",
    "- Asks for user input 1 letter at a time\n",
    "- If letter = part of the word's letters, display letter\n",
    "- If letter != part  of the word's letters, waste a chance.\n",
    "- 6 or 7 chances in total? \n",
    "- Put all this inside a loop with the number of chances left as counter!"
   ]
  },
  {
   "cell_type": "markdown",
   "metadata": {},
   "source": [
    "### Tkinter in Snowman\n",
    "- Lets user enter input by clicking alphabet buttons\n",
    "- state=\"disabled\" if letter has been chosen already\n",
    "- pictures of snowman showing up\n",
    "\n",
    "\n",
    "Snowman logic:\n",
    "\n",
    "a loop through all below 6 times\n",
    "- game displays guess word ______\n",
    "- user presses a letter button0\n",
    "- program checks if guessed letter is part of word\n",
    "- if part of, display. if not part of, don't display.\n",
    "\n",
    "\n",
    "word = hello\n",
    "_____\n",
    "loop through hello string and record indicies of each letter\n",
    "if user input matches, then replace\n",
    "\n",
    "**Have a counter. Every time user presses a button counter goes up. If counter hits 6, root.destroy()**"
   ]
  },
  {
   "cell_type": "code",
   "execution_count": 8,
   "metadata": {},
   "outputs": [],
   "source": [
    "#A function that displays the snowman and the letters. Maybe use Tkinter.\n",
    "def display_game(word):\n",
    "    "
   ]
  },
  {
   "cell_type": "code",
   "execution_count": null,
   "metadata": {},
   "outputs": [],
   "source": [
    "def verify(a_guess):\n",
    "    a_guess"
   ]
  },
  {
   "cell_type": "code",
   "execution_count": 7,
   "metadata": {},
   "outputs": [
    {
     "name": "stdout",
     "output_type": "stream",
     "text": [
      "You have 9 left\n",
      "You have 8 left\n",
      "You have 7 left\n",
      "You have 6 left\n",
      "You have 5 left\n",
      "You have 4 left\n",
      "You have 3 left\n",
      "You have 2 left\n",
      "You have 1 left\n"
     ]
    }
   ],
   "source": [
    "chances = len(word)\n",
    "\n",
    "while chances > 0:\n",
    "    print(f\"You have {chances} left\")\n",
    "    \n",
    "    guess = input(\"Take a wild guess at the letter: \").upper()\n",
    "    \n",
    "    \n",
    "    \n",
    "    chances -= 1"
   ]
  },
  {
   "cell_type": "markdown",
   "metadata": {},
   "source": [
    "# Tkinter"
   ]
  },
  {
   "cell_type": "markdown",
   "metadata": {},
   "source": [
    "### Intro"
   ]
  },
  {
   "cell_type": "code",
   "execution_count": 3,
   "metadata": {},
   "outputs": [],
   "source": [
    "from tkinter import *\n",
    "#in tkiner, everything is a widget?\n",
    "root = Tk()#First, must create root window, must be done in every tkiner code.\n",
    "#2 steps. First, create it. Then, show it.\n",
    "myLabel = Label(root, text=\"Hello World!\")\n",
    "\n",
    "#shove label onto screen. The window is packed(as big as) this label\n",
    "myLabel.pack()\n",
    "\n",
    "#event loop is constantly recognizing changes made by user. Program ends = loop ends.\n",
    "root.mainloop()#when closing window, this loop is disrupted"
   ]
  },
  {
   "cell_type": "markdown",
   "metadata": {},
   "source": [
    "### Grid System"
   ]
  },
  {
   "cell_type": "code",
   "execution_count": 4,
   "metadata": {
    "scrolled": true
   },
   "outputs": [],
   "source": [
    "#Grid system goes from top left to bottom right instead of bottom left to top right like math\n",
    "from tkinter import *\n",
    "\n",
    "root = Tk()\n",
    "\n",
    "#Creating things\n",
    "myLabel1 = Label(root, text=\"Hello World!\").grid(row = 0, column = 0)#Python object oriented, so can call grid here.\n",
    "myLabel2 = Label(root, text=\"My name is Sean Wu!\").grid(row = 1, column = 5)\n",
    "\n",
    "#Putting things on the screen\n",
    "#myLabel1.grid(row = 0, column = 0)\n",
    "#myLabel2.grid(row = 1, column = 5)\n",
    "#columns/rows are relative. So if there is nothing before\n",
    "#that column/row number, then it's not going to move. Colomb 1 and colomb 100 would display the same.\n",
    "\n",
    "root.mainloop()"
   ]
  },
  {
   "cell_type": "markdown",
   "metadata": {},
   "source": [
    "### Buttons"
   ]
  },
  {
   "cell_type": "code",
   "execution_count": 5,
   "metadata": {},
   "outputs": [],
   "source": [
    "from tkinter import *\n",
    "\n",
    "root = Tk()\n",
    "\n",
    "def myClick():\n",
    "    myLabel = Label(root, text=\"Look! I clicked the button!\")\n",
    "    myLabel.pack()\n",
    "\n",
    "myButton = Button(root, text = \"Click Me!\", command=myClick, fg=\"blue\",bg=\"red\") #creates button object\n",
    "#state=DISABLED create disabled button, padx=50 make button 50 wide\n",
    "myButton.pack()\n",
    "\n",
    "\n",
    "root.mainloop()"
   ]
  },
  {
   "cell_type": "markdown",
   "metadata": {},
   "source": [
    "### Input Field"
   ]
  },
  {
   "cell_type": "code",
   "execution_count": 6,
   "metadata": {},
   "outputs": [],
   "source": [
    "from tkinter import *\n",
    "\n",
    "root = Tk()\n",
    "\n",
    "e = Entry(root, width=50,bg=\"blue\",fg=\"white\",borderwidth=10)\n",
    "#entry widget parameters\n",
    "e.pack()\n",
    "e.insert(0,\"Enter Your Name: \")\n",
    "\n",
    "\n",
    "def myClick():\n",
    "    hello = \"Hello \" + e.get() #e.get() can be stored\n",
    "    myLabel = Label(root, text=hello)#variables used\n",
    "    #When button is clicked, whatever is typed in will show up\n",
    "    myLabel.pack()\n",
    "\n",
    "myButton = Button(root, text = \"Enter The Name\", command=myClick, fg=\"blue\",bg=\"red\") \n",
    "\n",
    "myButton.pack()\n",
    "\n",
    "\n",
    "root.mainloop()"
   ]
  },
  {
   "cell_type": "markdown",
   "metadata": {},
   "source": [
    "### Image import"
   ]
  },
  {
   "cell_type": "code",
   "execution_count": 7,
   "metadata": {
    "scrolled": true
   },
   "outputs": [],
   "source": [
    "#https://stackoverflow.com/questions/4066202/resizing-pictures-in-pil-in-tkinter/32803004\n",
    "#from tkinter import *\n",
    "#from PIL import ImageTk,Image\n",
    "from tkinter import *\n",
    "import tkinter.font as TkFont\n",
    "from PIL import ImageTk, Image\n",
    "\n",
    "root = Tk()\n",
    "root.title('Importing images')\n",
    "root.iconbitmap('C:/Users/wubo1/Desktop/Lville/IIIrd Form Virtual Winter/Python/SnowmanIcon.ico')\n",
    "\n",
    "\n",
    "my_img = Image.open(\"C:/Users/wubo1/Desktop/Lville/IIIrd Form Virtual Winter/Python/Snowman1.png\")\n",
    "my_img = my_img.resize((250,250), Image.ANTIALIAS) ## The (250, 250) is (height, width)\n",
    "my_img = ImageTk.PhotoImage(my_img) #Image with PhotoImage to incorporate into label\n",
    "my_label = Label(image=my_img)         \n",
    "my_label.grid(column=0,row=0)\n",
    "\n",
    "\n",
    "button_quit = Button(root, text=\"Exit Program\", command=root.destroy)\n",
    "button_quit.grid(row=1,column=4)\n",
    "\n",
    "\n",
    "root.mainloop()"
   ]
  },
  {
   "cell_type": "markdown",
   "metadata": {},
   "source": [
    "# Experiments"
   ]
  },
  {
   "cell_type": "markdown",
   "metadata": {},
   "source": [
    "Snowman logic:\n",
    "\n",
    "a loop through all below 6 times\n",
    "- game displays guess word ______\n",
    "- user presses a letter button0\n",
    "- program checks if guessed letter is part of word\n",
    "- if part of, display. if not part of, don't display.\n",
    "\n",
    "\n",
    "word = hello\n",
    "_____\n",
    "loop through hello string and record indicies of each letter\n",
    "if user input matches, then replace\n",
    "\n",
    "Have a counter. Every time user presses a button counter goes up. If counter hits 6, root.destroy()"
   ]
  },
  {
   "cell_type": "code",
   "execution_count": null,
   "metadata": {},
   "outputs": [],
   "source": [
    "from tkinter import *\n",
    "\n",
    "root = Tk()\n",
    "\n",
    "ButtonA = Button(root, text = \"A\", command=myClick, fg=\"blue\",bg=\"white\",borderwidth = 10)\n",
    "\n",
    "root.mainloop()"
   ]
  },
  {
   "cell_type": "code",
   "execution_count": 7,
   "metadata": {},
   "outputs": [],
   "source": [
    "from tkinter import*\n",
    "\n",
    "root = Tk()\n",
    "\n",
    "e = Entry(root)\n",
    "e.pack()\n",
    "\n",
    "#for i in range(6):\n",
    "#    my_label = Label(root, text=\"Hello\")\n",
    "#    my_label.pack()\n",
    "\n",
    "for i in range(6):\n",
    "    if e.get() == \"hello\":\n",
    "        root.destroy()\n",
    "\n",
    "root.mainloop()"
   ]
  },
  {
   "cell_type": "code",
   "execution_count": 13,
   "metadata": {},
   "outputs": [],
   "source": [
    "dict = {'a':[\"apples\", \"attack\", \"able\"], 'b':[\"bananas\", \"buckets\", \"butts\"],'c':[\"choice\", \"crane\", \"crap\"]}\n",
    "# Is this"
   ]
  },
  {
   "cell_type": "code",
   "execution_count": 11,
   "metadata": {},
   "outputs": [
    {
     "name": "stdout",
     "output_type": "stream",
     "text": [
      "['a', 'b', 'c', 'd', 'e', 'f', 'g', 'h', 'i', 'j', 'k', 'l', 'm', 'n', 'o', 'p', 'q', 'r', 's', 't', 'u', 'v', 'w', 'x', 'y', 'z']\n"
     ]
    }
   ],
   "source": [
    "import string\n",
    "alphabet = [i for i in string.ascii_lowercase]\n",
    "print(alphabet)"
   ]
  },
  {
   "cell_type": "code",
   "execution_count": 21,
   "metadata": {},
   "outputs": [
    {
     "name": "stdout",
     "output_type": "stream",
     "text": [
      "2\n",
      "5\n",
      "8\n",
      "11\n",
      "14\n",
      "17\n",
      "20\n",
      "23\n",
      "26\n",
      "29\n",
      "32\n",
      "35\n",
      "38\n",
      "41\n",
      "44\n",
      "47\n",
      "50\n",
      "53\n",
      "56\n",
      "59\n",
      "62\n",
      "65\n",
      "68\n",
      "71\n",
      "74\n",
      "77\n"
     ]
    }
   ],
   "source": [
    "for i in range(2,len(text),3):\n",
    "    print(i)"
   ]
  },
  {
   "cell_type": "code",
   "execution_count": 112,
   "metadata": {},
   "outputs": [],
   "source": [
    "try:\n",
    "    import Tkinter as tk\n",
    "except ImportError:\n",
    "    import tkinter as tk\n",
    "    \n",
    "class MyApp(tk.Tk):\n",
    "    def __init__(self, *args, **kwargs):\n",
    "        tk.Tk.__init__(self, *args, **kwargs)\n",
    "        self.root = tk.Frame()\n",
    "        self.root.pack()\n",
    "        \n",
    "        self.image = tk.PhotoImage(file='C:/Users/wubo1/Desktop/Lville/IIIrd Form Virtual Winter/Python/Snowman1.png')\n",
    "        self.gmail = tk.Label(self.root, image=self.image)\n",
    "        self.gmail.pack()\n",
    "        \n",
    "app = MyApp()\n",
    "app.mainloop()"
   ]
  },
  {
   "cell_type": "code",
   "execution_count": 52,
   "metadata": {},
   "outputs": [
    {
     "ename": "SyntaxError",
     "evalue": "invalid syntax (<ipython-input-52-5c93ba855d6d>, line 10)",
     "output_type": "error",
     "traceback": [
      "\u001b[1;36m  File \u001b[1;32m\"<ipython-input-52-5c93ba855d6d>\"\u001b[1;36m, line \u001b[1;32m10\u001b[0m\n\u001b[1;33m    for each word in the list:\u001b[0m\n\u001b[1;37m             ^\u001b[0m\n\u001b[1;31mSyntaxError\u001b[0m\u001b[1;31m:\u001b[0m invalid syntax\n"
     ]
    }
   ],
   "source": [
    "if hax_mode:\n",
    "    guess = list(guess)\n",
    "    remainings = []\n",
    "    for i in range(len(guess)):\n",
    "        if guess[i] != \"_\":\n",
    "            remainings.append([guess[i],i])\n",
    "        \n",
    "    possibility_list = []\n",
    "    \n",
    "    for each word in the list:\n",
    "        if len(word) == len(guess):\n",
    "            word = list[word]\n",
    "            remains = []\n",
    "            \n",
    "            for i in range(len(word)):\n",
    "                remains.append([word[i],i])\n",
    "            \n",
    "            match = True\n",
    "            for i in range(len(remainings)):\n",
    "                if remaingings[i][0] != remains[i][0] or remaingings[i][0] != remains[i][0]:\n",
    "                    match = False\n",
    "            \n",
    "            if match:\n",
    "                possibility_list.append(word)"
   ]
  },
  {
   "cell_type": "code",
   "execution_count": 31,
   "metadata": {},
   "outputs": [
    {
     "name": "stdout",
     "output_type": "stream",
     "text": [
      "['h', 'e', 'l', 'l', 'o']\n"
     ]
    }
   ],
   "source": [
    "a = \"hello\"\n",
    "a = list(a)\n",
    "print(a)"
   ]
  },
  {
   "cell_type": "code",
   "execution_count": 32,
   "metadata": {},
   "outputs": [
    {
     "name": "stdout",
     "output_type": "stream",
     "text": [
      "lol\n"
     ]
    }
   ],
   "source": [
    "a = True\n",
    "if a:\n",
    "    print(\"lol\")"
   ]
  },
  {
   "cell_type": "code",
   "execution_count": 28,
   "metadata": {},
   "outputs": [
    {
     "name": "stdout",
     "output_type": "stream",
     "text": [
      "['hi', 'hello', 'hey']\n",
      "['hi', 'hello', 'hey']\n"
     ]
    }
   ],
   "source": [
    "a = [\"hi\", \"hello\", \"hey\"]\n",
    "print(a)\n",
    "a = str(a)\n",
    "print(a)"
   ]
  },
  {
   "cell_type": "code",
   "execution_count": 58,
   "metadata": {},
   "outputs": [
    {
     "name": "stdout",
     "output_type": "stream",
     "text": [
      "hihi\n",
      "hellohi\n",
      "heyhi\n"
     ]
    }
   ],
   "source": [
    "for i in a:\n",
    "    print(i+\"hi\")"
   ]
  },
  {
   "cell_type": "code",
   "execution_count": 31,
   "metadata": {},
   "outputs": [
    {
     "name": "stdout",
     "output_type": "stream",
     "text": [
      "['h', 'e', 'l', 'l', 'o']\n",
      "hello\n"
     ]
    }
   ],
   "source": [
    "a = \"hello\"\n",
    "a = list(a)\n",
    "print(a)\n",
    "a = ''.join(a)\n",
    "print(a)"
   ]
  },
  {
   "cell_type": "code",
   "execution_count": null,
   "metadata": {},
   "outputs": [],
   "source": [
    "a = [['a', 1]]\n",
    "b = [['a',1]]"
   ]
  }
 ],
 "metadata": {
  "kernelspec": {
   "display_name": "Python 3",
   "language": "python",
   "name": "python3"
  },
  "language_info": {
   "codemirror_mode": {
    "name": "ipython",
    "version": 3
   },
   "file_extension": ".py",
   "mimetype": "text/x-python",
   "name": "python",
   "nbconvert_exporter": "python",
   "pygments_lexer": "ipython3",
   "version": "3.8.5"
  }
 },
 "nbformat": 4,
 "nbformat_minor": 4
}
